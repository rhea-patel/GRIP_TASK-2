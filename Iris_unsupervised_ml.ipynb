{
  "nbformat": 4,
  "nbformat_minor": 0,
  "metadata": {
    "colab": {
      "name": "Iris_unsupervised_ml.ipynb",
      "provenance": [],
      "collapsed_sections": []
    },
    "kernelspec": {
      "name": "python3",
      "display_name": "Python 3"
    },
    "language_info": {
      "name": "python"
    }
  },
  "cells": [
    {
      "cell_type": "markdown",
      "metadata": {
        "id": "ZvZoPZA0z4Op"
      },
      "source": [
        "# The Spark Foundation **#task2**\n",
        "\n",
        "Data Science and Business Analytics\n",
        "\n",
        "Domain: Unsupervised ML_iris\n",
        "\n",
        "Riya R. Patel"
      ]
    },
    {
      "cell_type": "code",
      "metadata": {
        "colab": {
          "base_uri": "https://localhost:8080/"
        },
        "id": "bYl9MJ5EylNC",
        "outputId": "256cf020-eada-4194-b79b-fb0e149869db"
      },
      "source": [
        "# Importing the libraries\n",
        "import numpy as np\n",
        "import matplotlib.pyplot as plt\n",
        "import pandas as pd\n",
        "import seaborn as sns\n",
        "%matplotlib inline\n",
        "print(\"All modules imported!\")"
      ],
      "execution_count": 1,
      "outputs": [
        {
          "output_type": "stream",
          "text": [
            "All modules imported!\n"
          ],
          "name": "stdout"
        }
      ]
    },
    {
      "cell_type": "code",
      "metadata": {
        "colab": {
          "base_uri": "https://localhost:8080/",
          "height": 419
        },
        "id": "mhLZczPF08r3",
        "outputId": "a9c63bcc-d5b7-4eef-d2cd-444fb4204ab9"
      },
      "source": [
        "Iris =pd.read_csv('/content/drive/MyDrive/Iris.csv')\n",
        "Iris"
      ],
      "execution_count": 2,
      "outputs": [
        {
          "output_type": "execute_result",
          "data": {
            "text/html": [
              "<div>\n",
              "<style scoped>\n",
              "    .dataframe tbody tr th:only-of-type {\n",
              "        vertical-align: middle;\n",
              "    }\n",
              "\n",
              "    .dataframe tbody tr th {\n",
              "        vertical-align: top;\n",
              "    }\n",
              "\n",
              "    .dataframe thead th {\n",
              "        text-align: right;\n",
              "    }\n",
              "</style>\n",
              "<table border=\"1\" class=\"dataframe\">\n",
              "  <thead>\n",
              "    <tr style=\"text-align: right;\">\n",
              "      <th></th>\n",
              "      <th>Id</th>\n",
              "      <th>SepalLengthCm</th>\n",
              "      <th>SepalWidthCm</th>\n",
              "      <th>PetalLengthCm</th>\n",
              "      <th>PetalWidthCm</th>\n",
              "      <th>Species</th>\n",
              "    </tr>\n",
              "  </thead>\n",
              "  <tbody>\n",
              "    <tr>\n",
              "      <th>0</th>\n",
              "      <td>1</td>\n",
              "      <td>5.1</td>\n",
              "      <td>3.5</td>\n",
              "      <td>1.4</td>\n",
              "      <td>0.2</td>\n",
              "      <td>Iris-setosa</td>\n",
              "    </tr>\n",
              "    <tr>\n",
              "      <th>1</th>\n",
              "      <td>2</td>\n",
              "      <td>4.9</td>\n",
              "      <td>3.0</td>\n",
              "      <td>1.4</td>\n",
              "      <td>0.2</td>\n",
              "      <td>Iris-setosa</td>\n",
              "    </tr>\n",
              "    <tr>\n",
              "      <th>2</th>\n",
              "      <td>3</td>\n",
              "      <td>4.7</td>\n",
              "      <td>3.2</td>\n",
              "      <td>1.3</td>\n",
              "      <td>0.2</td>\n",
              "      <td>Iris-setosa</td>\n",
              "    </tr>\n",
              "    <tr>\n",
              "      <th>3</th>\n",
              "      <td>4</td>\n",
              "      <td>4.6</td>\n",
              "      <td>3.1</td>\n",
              "      <td>1.5</td>\n",
              "      <td>0.2</td>\n",
              "      <td>Iris-setosa</td>\n",
              "    </tr>\n",
              "    <tr>\n",
              "      <th>4</th>\n",
              "      <td>5</td>\n",
              "      <td>5.0</td>\n",
              "      <td>3.6</td>\n",
              "      <td>1.4</td>\n",
              "      <td>0.2</td>\n",
              "      <td>Iris-setosa</td>\n",
              "    </tr>\n",
              "    <tr>\n",
              "      <th>...</th>\n",
              "      <td>...</td>\n",
              "      <td>...</td>\n",
              "      <td>...</td>\n",
              "      <td>...</td>\n",
              "      <td>...</td>\n",
              "      <td>...</td>\n",
              "    </tr>\n",
              "    <tr>\n",
              "      <th>145</th>\n",
              "      <td>146</td>\n",
              "      <td>6.7</td>\n",
              "      <td>3.0</td>\n",
              "      <td>5.2</td>\n",
              "      <td>2.3</td>\n",
              "      <td>Iris-virginica</td>\n",
              "    </tr>\n",
              "    <tr>\n",
              "      <th>146</th>\n",
              "      <td>147</td>\n",
              "      <td>6.3</td>\n",
              "      <td>2.5</td>\n",
              "      <td>5.0</td>\n",
              "      <td>1.9</td>\n",
              "      <td>Iris-virginica</td>\n",
              "    </tr>\n",
              "    <tr>\n",
              "      <th>147</th>\n",
              "      <td>148</td>\n",
              "      <td>6.5</td>\n",
              "      <td>3.0</td>\n",
              "      <td>5.2</td>\n",
              "      <td>2.0</td>\n",
              "      <td>Iris-virginica</td>\n",
              "    </tr>\n",
              "    <tr>\n",
              "      <th>148</th>\n",
              "      <td>149</td>\n",
              "      <td>6.2</td>\n",
              "      <td>3.4</td>\n",
              "      <td>5.4</td>\n",
              "      <td>2.3</td>\n",
              "      <td>Iris-virginica</td>\n",
              "    </tr>\n",
              "    <tr>\n",
              "      <th>149</th>\n",
              "      <td>150</td>\n",
              "      <td>5.9</td>\n",
              "      <td>3.0</td>\n",
              "      <td>5.1</td>\n",
              "      <td>1.8</td>\n",
              "      <td>Iris-virginica</td>\n",
              "    </tr>\n",
              "  </tbody>\n",
              "</table>\n",
              "<p>150 rows × 6 columns</p>\n",
              "</div>"
            ],
            "text/plain": [
              "      Id  SepalLengthCm  ...  PetalWidthCm         Species\n",
              "0      1            5.1  ...           0.2     Iris-setosa\n",
              "1      2            4.9  ...           0.2     Iris-setosa\n",
              "2      3            4.7  ...           0.2     Iris-setosa\n",
              "3      4            4.6  ...           0.2     Iris-setosa\n",
              "4      5            5.0  ...           0.2     Iris-setosa\n",
              "..   ...            ...  ...           ...             ...\n",
              "145  146            6.7  ...           2.3  Iris-virginica\n",
              "146  147            6.3  ...           1.9  Iris-virginica\n",
              "147  148            6.5  ...           2.0  Iris-virginica\n",
              "148  149            6.2  ...           2.3  Iris-virginica\n",
              "149  150            5.9  ...           1.8  Iris-virginica\n",
              "\n",
              "[150 rows x 6 columns]"
            ]
          },
          "metadata": {
            "tags": []
          },
          "execution_count": 2
        }
      ]
    },
    {
      "cell_type": "code",
      "metadata": {
        "colab": {
          "base_uri": "https://localhost:8080/"
        },
        "id": "4ihEuB1L1JaG",
        "outputId": "0e5badec-aefc-4a24-e73f-9573633f5b80"
      },
      "source": [
        "Iris.info()"
      ],
      "execution_count": 4,
      "outputs": [
        {
          "output_type": "stream",
          "text": [
            "<class 'pandas.core.frame.DataFrame'>\n",
            "RangeIndex: 150 entries, 0 to 149\n",
            "Data columns (total 6 columns):\n",
            " #   Column         Non-Null Count  Dtype  \n",
            "---  ------         --------------  -----  \n",
            " 0   Id             150 non-null    int64  \n",
            " 1   SepalLengthCm  150 non-null    float64\n",
            " 2   SepalWidthCm   150 non-null    float64\n",
            " 3   PetalLengthCm  150 non-null    float64\n",
            " 4   PetalWidthCm   150 non-null    float64\n",
            " 5   Species        150 non-null    object \n",
            "dtypes: float64(4), int64(1), object(1)\n",
            "memory usage: 7.2+ KB\n"
          ],
          "name": "stdout"
        }
      ]
    },
    {
      "cell_type": "code",
      "metadata": {
        "colab": {
          "base_uri": "https://localhost:8080/",
          "height": 297
        },
        "id": "kADVXjEW1RRg",
        "outputId": "b2485767-60bf-4149-92c1-3afb7358e570"
      },
      "source": [
        "Iris.describe()"
      ],
      "execution_count": 5,
      "outputs": [
        {
          "output_type": "execute_result",
          "data": {
            "text/html": [
              "<div>\n",
              "<style scoped>\n",
              "    .dataframe tbody tr th:only-of-type {\n",
              "        vertical-align: middle;\n",
              "    }\n",
              "\n",
              "    .dataframe tbody tr th {\n",
              "        vertical-align: top;\n",
              "    }\n",
              "\n",
              "    .dataframe thead th {\n",
              "        text-align: right;\n",
              "    }\n",
              "</style>\n",
              "<table border=\"1\" class=\"dataframe\">\n",
              "  <thead>\n",
              "    <tr style=\"text-align: right;\">\n",
              "      <th></th>\n",
              "      <th>Id</th>\n",
              "      <th>SepalLengthCm</th>\n",
              "      <th>SepalWidthCm</th>\n",
              "      <th>PetalLengthCm</th>\n",
              "      <th>PetalWidthCm</th>\n",
              "    </tr>\n",
              "  </thead>\n",
              "  <tbody>\n",
              "    <tr>\n",
              "      <th>count</th>\n",
              "      <td>150.000000</td>\n",
              "      <td>150.000000</td>\n",
              "      <td>150.000000</td>\n",
              "      <td>150.000000</td>\n",
              "      <td>150.000000</td>\n",
              "    </tr>\n",
              "    <tr>\n",
              "      <th>mean</th>\n",
              "      <td>75.500000</td>\n",
              "      <td>5.843333</td>\n",
              "      <td>3.054000</td>\n",
              "      <td>3.758667</td>\n",
              "      <td>1.198667</td>\n",
              "    </tr>\n",
              "    <tr>\n",
              "      <th>std</th>\n",
              "      <td>43.445368</td>\n",
              "      <td>0.828066</td>\n",
              "      <td>0.433594</td>\n",
              "      <td>1.764420</td>\n",
              "      <td>0.763161</td>\n",
              "    </tr>\n",
              "    <tr>\n",
              "      <th>min</th>\n",
              "      <td>1.000000</td>\n",
              "      <td>4.300000</td>\n",
              "      <td>2.000000</td>\n",
              "      <td>1.000000</td>\n",
              "      <td>0.100000</td>\n",
              "    </tr>\n",
              "    <tr>\n",
              "      <th>25%</th>\n",
              "      <td>38.250000</td>\n",
              "      <td>5.100000</td>\n",
              "      <td>2.800000</td>\n",
              "      <td>1.600000</td>\n",
              "      <td>0.300000</td>\n",
              "    </tr>\n",
              "    <tr>\n",
              "      <th>50%</th>\n",
              "      <td>75.500000</td>\n",
              "      <td>5.800000</td>\n",
              "      <td>3.000000</td>\n",
              "      <td>4.350000</td>\n",
              "      <td>1.300000</td>\n",
              "    </tr>\n",
              "    <tr>\n",
              "      <th>75%</th>\n",
              "      <td>112.750000</td>\n",
              "      <td>6.400000</td>\n",
              "      <td>3.300000</td>\n",
              "      <td>5.100000</td>\n",
              "      <td>1.800000</td>\n",
              "    </tr>\n",
              "    <tr>\n",
              "      <th>max</th>\n",
              "      <td>150.000000</td>\n",
              "      <td>7.900000</td>\n",
              "      <td>4.400000</td>\n",
              "      <td>6.900000</td>\n",
              "      <td>2.500000</td>\n",
              "    </tr>\n",
              "  </tbody>\n",
              "</table>\n",
              "</div>"
            ],
            "text/plain": [
              "               Id  SepalLengthCm  SepalWidthCm  PetalLengthCm  PetalWidthCm\n",
              "count  150.000000     150.000000    150.000000     150.000000    150.000000\n",
              "mean    75.500000       5.843333      3.054000       3.758667      1.198667\n",
              "std     43.445368       0.828066      0.433594       1.764420      0.763161\n",
              "min      1.000000       4.300000      2.000000       1.000000      0.100000\n",
              "25%     38.250000       5.100000      2.800000       1.600000      0.300000\n",
              "50%     75.500000       5.800000      3.000000       4.350000      1.300000\n",
              "75%    112.750000       6.400000      3.300000       5.100000      1.800000\n",
              "max    150.000000       7.900000      4.400000       6.900000      2.500000"
            ]
          },
          "metadata": {
            "tags": []
          },
          "execution_count": 5
        }
      ]
    },
    {
      "cell_type": "code",
      "metadata": {
        "colab": {
          "base_uri": "https://localhost:8080/"
        },
        "id": "WPak2xIv1VyC",
        "outputId": "a578c49b-c11e-4ad6-ebe6-98d589093bed"
      },
      "source": [
        "x=Iris.iloc[:, [1,4]].values\n",
        "x"
      ],
      "execution_count": 7,
      "outputs": [
        {
          "output_type": "execute_result",
          "data": {
            "text/plain": [
              "array([[5.1, 0.2],\n",
              "       [4.9, 0.2],\n",
              "       [4.7, 0.2],\n",
              "       [4.6, 0.2],\n",
              "       [5. , 0.2],\n",
              "       [5.4, 0.4],\n",
              "       [4.6, 0.3],\n",
              "       [5. , 0.2],\n",
              "       [4.4, 0.2],\n",
              "       [4.9, 0.1],\n",
              "       [5.4, 0.2],\n",
              "       [4.8, 0.2],\n",
              "       [4.8, 0.1],\n",
              "       [4.3, 0.1],\n",
              "       [5.8, 0.2],\n",
              "       [5.7, 0.4],\n",
              "       [5.4, 0.4],\n",
              "       [5.1, 0.3],\n",
              "       [5.7, 0.3],\n",
              "       [5.1, 0.3],\n",
              "       [5.4, 0.2],\n",
              "       [5.1, 0.4],\n",
              "       [4.6, 0.2],\n",
              "       [5.1, 0.5],\n",
              "       [4.8, 0.2],\n",
              "       [5. , 0.2],\n",
              "       [5. , 0.4],\n",
              "       [5.2, 0.2],\n",
              "       [5.2, 0.2],\n",
              "       [4.7, 0.2],\n",
              "       [4.8, 0.2],\n",
              "       [5.4, 0.4],\n",
              "       [5.2, 0.1],\n",
              "       [5.5, 0.2],\n",
              "       [4.9, 0.1],\n",
              "       [5. , 0.2],\n",
              "       [5.5, 0.2],\n",
              "       [4.9, 0.1],\n",
              "       [4.4, 0.2],\n",
              "       [5.1, 0.2],\n",
              "       [5. , 0.3],\n",
              "       [4.5, 0.3],\n",
              "       [4.4, 0.2],\n",
              "       [5. , 0.6],\n",
              "       [5.1, 0.4],\n",
              "       [4.8, 0.3],\n",
              "       [5.1, 0.2],\n",
              "       [4.6, 0.2],\n",
              "       [5.3, 0.2],\n",
              "       [5. , 0.2],\n",
              "       [7. , 1.4],\n",
              "       [6.4, 1.5],\n",
              "       [6.9, 1.5],\n",
              "       [5.5, 1.3],\n",
              "       [6.5, 1.5],\n",
              "       [5.7, 1.3],\n",
              "       [6.3, 1.6],\n",
              "       [4.9, 1. ],\n",
              "       [6.6, 1.3],\n",
              "       [5.2, 1.4],\n",
              "       [5. , 1. ],\n",
              "       [5.9, 1.5],\n",
              "       [6. , 1. ],\n",
              "       [6.1, 1.4],\n",
              "       [5.6, 1.3],\n",
              "       [6.7, 1.4],\n",
              "       [5.6, 1.5],\n",
              "       [5.8, 1. ],\n",
              "       [6.2, 1.5],\n",
              "       [5.6, 1.1],\n",
              "       [5.9, 1.8],\n",
              "       [6.1, 1.3],\n",
              "       [6.3, 1.5],\n",
              "       [6.1, 1.2],\n",
              "       [6.4, 1.3],\n",
              "       [6.6, 1.4],\n",
              "       [6.8, 1.4],\n",
              "       [6.7, 1.7],\n",
              "       [6. , 1.5],\n",
              "       [5.7, 1. ],\n",
              "       [5.5, 1.1],\n",
              "       [5.5, 1. ],\n",
              "       [5.8, 1.2],\n",
              "       [6. , 1.6],\n",
              "       [5.4, 1.5],\n",
              "       [6. , 1.6],\n",
              "       [6.7, 1.5],\n",
              "       [6.3, 1.3],\n",
              "       [5.6, 1.3],\n",
              "       [5.5, 1.3],\n",
              "       [5.5, 1.2],\n",
              "       [6.1, 1.4],\n",
              "       [5.8, 1.2],\n",
              "       [5. , 1. ],\n",
              "       [5.6, 1.3],\n",
              "       [5.7, 1.2],\n",
              "       [5.7, 1.3],\n",
              "       [6.2, 1.3],\n",
              "       [5.1, 1.1],\n",
              "       [5.7, 1.3],\n",
              "       [6.3, 2.5],\n",
              "       [5.8, 1.9],\n",
              "       [7.1, 2.1],\n",
              "       [6.3, 1.8],\n",
              "       [6.5, 2.2],\n",
              "       [7.6, 2.1],\n",
              "       [4.9, 1.7],\n",
              "       [7.3, 1.8],\n",
              "       [6.7, 1.8],\n",
              "       [7.2, 2.5],\n",
              "       [6.5, 2. ],\n",
              "       [6.4, 1.9],\n",
              "       [6.8, 2.1],\n",
              "       [5.7, 2. ],\n",
              "       [5.8, 2.4],\n",
              "       [6.4, 2.3],\n",
              "       [6.5, 1.8],\n",
              "       [7.7, 2.2],\n",
              "       [7.7, 2.3],\n",
              "       [6. , 1.5],\n",
              "       [6.9, 2.3],\n",
              "       [5.6, 2. ],\n",
              "       [7.7, 2. ],\n",
              "       [6.3, 1.8],\n",
              "       [6.7, 2.1],\n",
              "       [7.2, 1.8],\n",
              "       [6.2, 1.8],\n",
              "       [6.1, 1.8],\n",
              "       [6.4, 2.1],\n",
              "       [7.2, 1.6],\n",
              "       [7.4, 1.9],\n",
              "       [7.9, 2. ],\n",
              "       [6.4, 2.2],\n",
              "       [6.3, 1.5],\n",
              "       [6.1, 1.4],\n",
              "       [7.7, 2.3],\n",
              "       [6.3, 2.4],\n",
              "       [6.4, 1.8],\n",
              "       [6. , 1.8],\n",
              "       [6.9, 2.1],\n",
              "       [6.7, 2.4],\n",
              "       [6.9, 2.3],\n",
              "       [5.8, 1.9],\n",
              "       [6.8, 2.3],\n",
              "       [6.7, 2.5],\n",
              "       [6.7, 2.3],\n",
              "       [6.3, 1.9],\n",
              "       [6.5, 2. ],\n",
              "       [6.2, 2.3],\n",
              "       [5.9, 1.8]])"
            ]
          },
          "metadata": {
            "tags": []
          },
          "execution_count": 7
        }
      ]
    },
    {
      "cell_type": "markdown",
      "metadata": {
        "id": "XFEvGLcx1vmm"
      },
      "source": [
        "Find optimal numbers of cluster"
      ]
    },
    {
      "cell_type": "code",
      "metadata": {
        "colab": {
          "base_uri": "https://localhost:8080/",
          "height": 295
        },
        "id": "MOmjq0M-1twV",
        "outputId": "b55041b3-9e96-4863-d48a-4cf89e395ccd"
      },
      "source": [
        "from sklearn.cluster import KMeans\n",
        "wcss=[]\n",
        "for i in range(1, 11):\n",
        "    kmeans = KMeans(n_clusters = i, init ='k-means++', random_state =42)\n",
        "    kmeans.fit(x)\n",
        "    wcss.append(kmeans.inertia_)\n",
        "plt.plot(range(1, 11), wcss)\n",
        "plt.title('The elbow Method')\n",
        "plt.xlabel('Number of clusters')\n",
        "plt.ylabel('WCSS')\n",
        "plt.show()"
      ],
      "execution_count": 8,
      "outputs": [
        {
          "output_type": "display_data",
          "data": {
            "image/png": "[encoded data removed]",
            "text/plain": [
              "<Figure size 432x288 with 1 Axes>"
            ]
          },
          "metadata": {
            "tags": [],
            "needs_background": "light"
          }
        }
      ]
    },
    {
      "cell_type": "markdown",
      "metadata": {
        "id": "qIMLzQsc2PN9"
      },
      "source": [
        "K-means model on the dataset"
      ]
    },
    {
      "cell_type": "code",
      "metadata": {
        "colab": {
          "base_uri": "https://localhost:8080/"
        },
        "id": "iG3Y2O7w2Ujg",
        "outputId": "2ef4e315-0be7-47dd-d656-3088cd89e2a9"
      },
      "source": [
        "kmeans = KMeans(n_clusters = 3, init ='k-means++', random_state = 42)\n",
        "y_kmeans=kmeans.fit_predict(x)\n",
        "\n",
        "print(y_kmeans)"
      ],
      "execution_count": 9,
      "outputs": [
        {
          "output_type": "stream",
          "text": [
            "[2 2 2 2 2 2 2 2 2 2 2 2 2 2 2 2 2 2 2 2 2 2 2 2 2 2 2 2 2 2 2 2 2 2 2 2 2\n",
            " 2 2 2 2 2 2 2 2 2 2 2 2 2 1 0 1 0 1 0 0 2 1 0 2 0 0 0 0 1 0 0 0 0 0 0 0 0\n",
            " 0 1 1 1 0 0 0 0 0 0 0 0 1 0 0 0 0 0 0 2 0 0 0 0 2 0 1 0 1 0 1 1 0 1 1 1 1\n",
            " 1 1 0 0 1 1 1 1 0 1 0 1 0 1 1 0 0 1 1 1 1 1 0 0 1 1 1 0 1 1 1 0 1 1 1 1 1\n",
            " 1 0]\n"
          ],
          "name": "stdout"
        }
      ]
    },
    {
      "cell_type": "code",
      "metadata": {
        "colab": {
          "base_uri": "https://localhost:8080/",
          "height": 303
        },
        "id": "dEAhhts_2j6d",
        "outputId": "ea9b8c52-0490-4e36-8154-fff84aabcde1"
      },
      "source": [
        "plt.scatter(x[y_kmeans ==0, 0], x[y_kmeans==0, 1], s=100, c='red', label ='Iris-setosa')\n",
        "plt.scatter(x[y_kmeans ==1, 0], x[y_kmeans==1, 1], s=100, c='blue', label ='Iris-versicolour')\n",
        "plt.scatter(x[y_kmeans ==2, 0], x[y_kmeans==2, 1], s=100, c='green', label ='Iris-virginica')\n",
        "plt.scatter(kmeans.cluster_centers_[:, 0], kmeans.cluster_centers_[:, 1], s=300, c='pink', label ='Centroids')\n",
        "plt.title('Cluster of Iris Data')\n",
        "plt.xlabel('Sepal Length', fontsize =18)\n",
        "plt.ylabel('Sepal Width', fontsize =18)\n",
        "plt.legend()\n",
        "plt.show()"
      ],
      "execution_count": 10,
      "outputs": [
        {
          "output_type": "display_data",
          "data": {
            "image/png": "[encoded data removed]",
            "text/plain": [
              "<Figure size 432x288 with 1 Axes>"
            ]
          },
          "metadata": {
            "tags": [],
            "needs_background": "light"
          }
        }
      ]
    },
    {
      "cell_type": "markdown",
      "metadata": {
        "id": "pia1UOfI2vqA"
      },
      "source": [
        "\n",
        "\n",
        "*   Find sepal length and width plot \n",
        "*   Optimal numbers of cluster\n",
        "\n",
        "# **Thank You :)**\n",
        "\n"
      ]
    }
  ]
}